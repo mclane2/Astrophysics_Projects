{
 "cells": [
  {
   "cell_type": "code",
   "execution_count": 2,
   "id": "730a13b7-1766-4da2-84b5-fe2150c569c8",
   "metadata": {
    "tags": []
   },
   "outputs": [],
   "source": [
    "import numpy as np\n",
    "import matplotlib.pyplot as plt"
   ]
  },
  {
   "cell_type": "markdown",
   "id": "c3276385-748e-435c-b8cf-75e7e59a0ff8",
   "metadata": {},
   "source": [
    "### Section 1\n",
    "Knowing the radius of the disk, we can roughly calculate that a gas parcel starting at the edge of the prestellar cloud core has specific angular momentum\n",
    "\n",
    "$$\n",
    "j\\sim\\sqrt{GMr_{eq}}\n",
    "$$\n",
    "\n",
    "where $M$ is the mass of the core and $r_{eq}$ is the expected size of the disk due to centripetal acceleration of the gas opposing the gravitational acceleration.\n",
    "\n",
    "Input:\n",
    "1. The outer radius of the dust disk in arcseconds\n",
    "2. The distance to the planetary system"
   ]
  },
  {
   "cell_type": "code",
   "execution_count": 5,
   "id": "1b25ca9c-500d-4e30-b6a9-5d1e61263ea2",
   "metadata": {
    "tags": []
   },
   "outputs": [
    {
     "name": "stdout",
     "output_type": "stream",
     "text": [
      "Radius in AU: 82.5000774955982\n",
      "Specific angular momentum j in cm^2 s^-1: 5.4288711743439785e+20\n"
     ]
    }
   ],
   "source": [
    "angular_radius_as = 0.5 # estimate of the radius\n",
    "distance_pc = 165 # distance to planetary system\n",
    "\n",
    "angular_radius_degrees = angular_radius_as / 3600 # arcseconds to degrees\n",
    "angular_radius_radians = angular_radius_degrees*(np.pi/180) # degrees to radians\n",
    "radius_pc = angular_radius_radians*distance_pc # radians to radius in parsecs\n",
    "radius_au = radius_pc * 206265 # parsecs to AU\n",
    "\n",
    "print('Radius in AU:',radius_au)\n",
    "\n",
    "r_eq = radius_au * 1.496e11 # AU to meters\n",
    "G = 6.67e-11 # gravitational constant\n",
    "M = 1.8*(1.989e30) # mass estimate\n",
    "j_estimate_m = np.sqrt(G*M*r_eq) # in m^2 s^-1\n",
    "j_estimate_cm = j_estimate_m * 1e4 # m^2 s^-1 to cm^2 s^-1\n",
    "print('Specific angular momentum j in cm^2 s^-1:', j_estimate_cm)"
   ]
  },
  {
   "cell_type": "markdown",
   "id": "1aa48234-2181-40be-8335-375451feea67",
   "metadata": {},
   "source": [
    "### Section 2\n",
    "\n",
    "Knowing the luminosity of the central star, we can calculate its radius using the Stefan-Boltzmann law. Then, we can use this to calculate the breakup angular velocity, given by\n",
    "\n",
    "$$\n",
    "\\Omega_{breakup}=\\sqrt{\\frac{GM}{R^3}}\n",
    "$$\n",
    "\n",
    "This formula is derived by equating the gravitational acceleration with the centripetal acceleration and solving for angular velocity. Because of this, knowing the values for the mass and the stellar radius, we can calculate the breakup velocity.\n",
    "\n",
    "Input:\n",
    "1. Luminosity of the central star\n",
    "2. The effective temperature of the star"
   ]
  },
  {
   "cell_type": "code",
   "execution_count": 6,
   "id": "f5ffe680-bcfb-4a0c-820e-9ebf6481637d",
   "metadata": {
    "tags": []
   },
   "outputs": [
    {
     "name": "stdout",
     "output_type": "stream",
     "text": [
      "Stellar Radius (Solar Radii): 2.054643854319788\n",
      "Breakup angular velocity: 0.00028594251049957433\n"
     ]
    }
   ],
   "source": [
    "L = 3.8*(3.83e26) # luminosity of central star in Watts\n",
    "T_eff = 5623 # Effective temperature of central star in Kelvin\n",
    "o = 5.67e-8 # Stefan-Boltzmann constant\n",
    "\n",
    "R_m = np.sqrt(L/(4*np.pi*o*(T_eff**4))) # Stefan-Boltzmann law\n",
    "\n",
    "R_sr = R_m/ 6.957e8 # convert from m to solar radii\n",
    "print('Stellar Radius (Solar Radii):',R_sr)\n",
    "\n",
    "omega_breakup = np.sqrt( (G*M)/(R_m**3) ) # breakup angular velocity formula\n",
    "print('Breakup angular velocity:',omega_breakup)"
   ]
  },
  {
   "cell_type": "markdown",
   "id": "5c99b501-45dc-4770-a53d-d09f2a0c9e73",
   "metadata": {},
   "source": [
    "### Section 3\n",
    "\n",
    "Now we can calculate the maximum specific angular momentum the star may have to avoid breaking apart, in cm$^2$ s$^{-1}$. <br> We can do this using the formula relating angular velocity to specific angular momentum \n",
    "\n",
    "$$\n",
    "j_{breakup}=R^2\\Omega_{breakup}\n",
    "$$\n",
    "\n",
    "Comparing $j_{breakup}$ with $j$ from Section 1, one should see that the prestellar core's specific angular momentum exceeds the maximum value of specific angular momentum for the star to breakup. This implies that the cloud core must lose angular momentum during the collapsing process to prevent breakup. This is seen in the solar system, where the planets, not the sun contain, most of the angular momentum. \n",
    "\n",
    "Input:\n",
    "1. Nothing (run previous cells)"
   ]
  },
  {
   "cell_type": "code",
   "execution_count": 7,
   "id": "1a21cf67-c576-4ecd-a52d-7d579b6ecec4",
   "metadata": {
    "tags": []
   },
   "outputs": [
    {
     "name": "stdout",
     "output_type": "stream",
     "text": [
      "j breakup: 5.842461234602629e+18\n"
     ]
    }
   ],
   "source": [
    "R_cm = R_m*100 # converting m to cm\n",
    "\n",
    "j_breakup = (R_cm**2)*omega_breakup # breakup specific angular momentum formula\n",
    "\n",
    "print('j breakup:', j_breakup)"
   ]
  },
  {
   "cell_type": "markdown",
   "id": "0e648a35-1a39-4184-9c4d-18fa7e944444",
   "metadata": {},
   "source": [
    "### Section 4\n",
    "Knowing the total flux density at a specific wavelength, we can calculate the total mass of grains using the formula\n",
    "\n",
    "$$\n",
    "M = \\frac{F_{\\nu}d^2}{B_{\\nu}\\kappa_{\\nu}}\n",
    "$$\n",
    "\n",
    "where $B_{\\nu}$ is the blackbody function. This equation is derived from the radiative transfer equation assuming the dust is in local thermodynamic equilibrium and the emission is optically thin. The mass of the dust was calculated to be $12.6$ $M_{\\bigoplus}$. This is likely a underestimate, since the inner part of the disk is more optically thick, and would therefore be underepresented in this calculation (since we assumed optically thin emission).\n",
    "\n",
    "Input\n",
    "1. The mass opacity $\\kappa_{\\nu}$=2.3 cm$^2$g$^{-1}$ of the disk dust grains\n",
    "2. An estimate of the dust temperature in Kelvin\n",
    "3. The total flux density at a specific frequency in mJr (then converted to ergs)\n",
    "4. The choosen frequency in GHz"
   ]
  },
  {
   "cell_type": "code",
   "execution_count": 8,
   "id": "dc0dd7b7-66ad-4585-ab35-0c9f37938960",
   "metadata": {
    "tags": []
   },
   "outputs": [
    {
     "name": "stdout",
     "output_type": "stream",
     "text": [
      "Dust Mass (Earth Masses) 12.597397414505467\n"
     ]
    }
   ],
   "source": [
    "k = 2.3 # opacity in cm^2 g^-1\n",
    "T = 56  # K\n",
    "F_mJr = 59 # flux in mJr\n",
    "F_erg = F_mJr*1e-26 # convert to erg s^-1 cm^-2 Hz^-1\n",
    "nu = 239e9  # Hz (239 GHz)\n",
    "\n",
    "\n",
    "d_pc = distance_pc # distance in pc\n",
    "d_cm = d_pc * 3.08568e18  # convert from pc to cm\n",
    "\n",
    "# Calculating Blackbody function\n",
    "h = 6.626e-27  # erg s\n",
    "c = 3e10  # cm s^-1\n",
    "k_B = 1.38e-16  # erg K^-1\n",
    "B = (2 * h * nu**3) / (c**2) * (1 / (np.exp((h * nu) / (k_B * T)) - 1)) # Blackbody function in cgs\n",
    "\n",
    "M_dust_g = (F_erg*(d_cm**2))/(B*k) # Formula for M\n",
    "\n",
    "M_dust_earth = M_dust_g / 5.972e27 # grams to earth masses\n",
    "print('Dust Mass (Earth Masses)',M_dust_earth)"
   ]
  },
  {
   "cell_type": "markdown",
   "id": "8c905cde-3f5b-4b2e-b4ac-1f0180333c0f",
   "metadata": {},
   "source": [
    "### Section 5\n",
    "\n",
    "Even though the dust mass is easier to measure, H$_2$ gas dominates the disk mass. Assuming a typical gas-to-mm dust ratio of 100, we can calculate the total disk mass as a fraction of the stellar mass. \n",
    "\n",
    "Input:\n",
    "1. Nothing (run previous cell)"
   ]
  },
  {
   "cell_type": "code",
   "execution_count": 9,
   "id": "2c7540a9-1953-4f41-898f-da61d3806875",
   "metadata": {
    "tags": []
   },
   "outputs": [
    {
     "name": "stdout",
     "output_type": "stream",
     "text": [
      "Total disk mass over stellar mass 0.0021223388060170076\n"
     ]
    }
   ],
   "source": [
    "M_gas_g = M_dust_g * 100 # Using dust to gas ratio to calculate the mass of gas\n",
    "\n",
    "M_disk_g = M_gas_g + M_dust_g # Calculating the disk mask (dust + gas)\n",
    "\n",
    "M_star_g = M * 1000 # Converting the total mass of star in kg to g\n",
    "\n",
    "disk_to_star = M_disk_g/M_star_g # Calculating ratio of disk mass to star mass\n",
    "\n",
    "print('Total disk mass over stellar mass',disk_to_star)"
   ]
  },
  {
   "cell_type": "markdown",
   "id": "ad8c518d-d834-4ca7-b479-88e10ef8bbdb",
   "metadata": {},
   "source": [
    "### Section 6\n",
    "The Minimum Mass Solar Nebula is the mass needed in the sun's protoplanetary disk to produce the planets in the solar system. A rough approximation for the needed size of the disk for the sun is $0.01$ $M_{\\bigodot}$. \n",
    "\n",
    "The total mass of all the planets in the solar system is $1.2\\times 10^{-3}$ $M_{\\bigodot}$. The efficiency of planet formation can be the fraction of disk mass that ends up in the planets. For the solar system, $12\\%$ efficiency is needed to produce the solar system planets. This value can be compared to the efficiency for a system to form the same mass of solar system planets from its disk.\n",
    "\n",
    "Input:\n",
    "1. Nothing (run previous cells)"
   ]
  },
  {
   "cell_type": "code",
   "execution_count": 12,
   "id": "5a47108a-4a59-4186-bb86-1bfb03f656e0",
   "metadata": {
    "tags": []
   },
   "outputs": [
    {
     "name": "stdout",
     "output_type": "stream",
     "text": [
      "Solar System Efficiency 0.11999999999999998\n",
      "Disk Efficiency 0.3141188696058381\n"
     ]
    }
   ],
   "source": [
    "M_disk_sm = M_disk_g/1.989e+33 # converting disk mass from grams to solar masses\n",
    "#print('Disk Mass (Solar mass):',M_disk_sm)\n",
    "\n",
    "MMSN = 0.01 # MMSN in solar mass\n",
    "M_ss_planets = 1.2e-3 # Solar mass of the solar system planets\n",
    "ss_efficency = M_ss_planets/MMSN # calculating efficiency of solar system formation\n",
    "\n",
    "Disk_efficency = M_ss_planets/M_disk_sm # calculating efficiency needed for the system to form solar system planets\n",
    "\n",
    "print('Solar System Efficiency',ss_efficency)\n",
    "print('Disk Efficiency',Disk_efficency)"
   ]
  }
 ],
 "metadata": {
  "kernelspec": {
   "display_name": "Python 3 (ipykernel)",
   "language": "python",
   "name": "python3"
  },
  "language_info": {
   "codemirror_mode": {
    "name": "ipython",
    "version": 3
   },
   "file_extension": ".py",
   "mimetype": "text/x-python",
   "name": "python",
   "nbconvert_exporter": "python",
   "pygments_lexer": "ipython3",
   "version": "3.11.5"
  }
 },
 "nbformat": 4,
 "nbformat_minor": 5
}
